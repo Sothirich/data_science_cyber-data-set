{
  "cells": [
    {
      "cell_type": "code",
      "execution_count": null,
      "metadata": {
        "colab": {
          "base_uri": "https://localhost:8080/"
        },
        "id": "M_zXcr0G5cv0",
        "outputId": "cd02da53-e3b5-4f3f-e22b-94898d1d626b"
      },
      "outputs": [
        {
          "output_type": "stream",
          "name": "stdout",
          "text": [
            "Drive already mounted at /content/drive; to attempt to forcibly remount, call drive.mount(\"/content/drive\", force_remount=True).\n",
            "/content/drive/MyDrive/Colab/Project\n"
          ]
        }
      ],
      "source": [
        "# Pitou\n",
        "\n",
        "### If you are running this on google colab, mount your google drive first\n",
        "## If not, comment out the following lines\n",
        "from google.colab import drive\n",
        "drive.mount('/content/drive')\n",
        "%cd /content/drive/MyDrive/Colab/Project/"
      ]
    },
    {
      "cell_type": "code",
      "execution_count": null,
      "metadata": {
        "id": "kFsvnTI15cv3"
      },
      "outputs": [],
      "source": [
        "# Pitou\n",
        "\n",
        "## Importing the necessary module\n",
        "from transformed import *"
      ]
    },
    {
      "cell_type": "code",
      "execution_count": null,
      "metadata": {
        "id": "r-g2KM-FlXyD"
      },
      "outputs": [],
      "source": [
        "# Pitou\n",
        "\n",
        "## Importing necessary libraries\n",
        "from sklearn.svm import SVC"
      ]
    },
    {
      "cell_type": "markdown",
      "metadata": {
        "id": "ZfNSA4435cv3"
      },
      "source": [
        "# Step 1 - Model Selection"
      ]
    },
    {
      "cell_type": "code",
      "execution_count": null,
      "metadata": {
        "id": "MFriOyJf5cv4"
      },
      "outputs": [],
      "source": [
        "# Whatanak\n",
        "\n",
        "import numpy as np\n",
        "import pandas as pd\n",
        "\n",
        "import xgboost as xgb"
      ]
    },
    {
      "cell_type": "markdown",
      "metadata": {
        "id": "WdBCZl6m5cv4"
      },
      "source": [
        "# Step 2 - Data Training"
      ]
    },
    {
      "cell_type": "code",
      "execution_count": null,
      "metadata": {
        "id": "qdhmMkJklXyF"
      },
      "outputs": [],
      "source": [
        "# Whatanak\n",
        "\n",
        "# Create the XGBoost DMatrix for efficient data handling\n",
        "dtrain = xgb.DMatrix(X_train, label=y_train)\n",
        "dtest = xgb.DMatrix(X_test, label=y_test)\n",
        "\n",
        "# Define hyperparameters for the XGBoost model\n",
        "params = {\n",
        "    'objective': 'multi:softmax',  # Use 'multi:softmax' for multiclass classification\n",
        "    'num_class': 11,\n",
        "    'eval_metric': 'mlogloss',  # Use 'mlogloss' for multiclass classification\n",
        "    'eta': 0.1,\n",
        "    'max_depth': 6,\n",
        "    'min_child_weight': 1,\n",
        "    'gamma': 0,\n",
        "    'subsample': 0.8,\n",
        "    'colsample_bytree': 0.8,\n",
        "    'seed': 42\n",
        "}"
      ]
    },
    {
      "cell_type": "code",
      "execution_count": null,
      "metadata": {
        "id": "lTKoe_8ulXyF"
      },
      "outputs": [],
      "source": [
        "# Whatanak\n",
        "\n",
        "# Train the XGBoost model\n",
        "num_rounds = 100  # Number of boosting rounds (trees)\n",
        "model = xgb.train(params, dtrain, num_rounds)"
      ]
    },
    {
      "cell_type": "code",
      "execution_count": null,
      "metadata": {
        "id": "EgQ7-mNB5cv5"
      },
      "outputs": [],
      "source": [
        "# YOUR NAME\n",
        "\n",
        "## Step 2.a - Selecting a Loss Function\n"
      ]
    },
    {
      "cell_type": "code",
      "execution_count": null,
      "metadata": {
        "id": "T8eabO8M5cv5"
      },
      "outputs": [],
      "source": [
        "# YOUR NAME\n",
        "\n",
        "## Step 2.b - Selecting an Optimization Algorithm"
      ]
    },
    {
      "cell_type": "code",
      "execution_count": null,
      "metadata": {
        "id": "qJJll_oD5cv5"
      },
      "outputs": [],
      "source": [
        "# YOUR NAME\n",
        "\n",
        "### Plot the losses over iterations"
      ]
    },
    {
      "cell_type": "code",
      "execution_count": null,
      "metadata": {
        "id": "oowRQOKT5cv6"
      },
      "outputs": [],
      "source": [
        "# YOUR NAME\n",
        "\n",
        "## Step 2.c - Selecting a Learning Rate\n"
      ]
    },
    {
      "cell_type": "code",
      "execution_count": null,
      "metadata": {
        "id": "91k3owO65cv6"
      },
      "outputs": [],
      "source": [
        "# YOUR NAME\n",
        "\n",
        "## Step 2.d - Selecting a Regulization Technique\n"
      ]
    },
    {
      "cell_type": "code",
      "execution_count": null,
      "metadata": {
        "id": "mfErYXNb5cv6"
      },
      "outputs": [],
      "source": [
        "# YOUR NAME\n",
        "\n",
        "## Step 2.e - Selecting a Validation Strategy\n"
      ]
    },
    {
      "cell_type": "markdown",
      "metadata": {
        "id": "DwivGNHs5cv6"
      },
      "source": [
        "# Step 3 - Model Evaluation"
      ]
    },
    {
      "cell_type": "code",
      "execution_count": null,
      "metadata": {
        "id": "gURV2wFH5cv6",
        "outputId": "78348eac-cac7-4458-fe7d-805da48b180f",
        "colab": {
          "base_uri": "https://localhost:8080/"
        }
      },
      "outputs": [
        {
          "output_type": "stream",
          "name": "stderr",
          "text": [
            "/usr/local/lib/python3.10/dist-packages/sklearn/metrics/_classification.py:1344: UndefinedMetricWarning: Precision is ill-defined and being set to 0.0 in labels with no predicted samples. Use `zero_division` parameter to control this behavior.\n",
            "  _warn_prf(average, modifier, msg_start, len(result))\n",
            "/usr/local/lib/python3.10/dist-packages/sklearn/metrics/_classification.py:1344: UndefinedMetricWarning: Precision and F-score are ill-defined and being set to 0.0 in labels with no predicted samples. Use `zero_division` parameter to control this behavior.\n",
            "  _warn_prf(average, modifier, msg_start, len(result))\n",
            "/usr/local/lib/python3.10/dist-packages/sklearn/metrics/_classification.py:1344: UndefinedMetricWarning: Precision and F-score are ill-defined and being set to 0.0 in labels with no predicted samples. Use `zero_division` parameter to control this behavior.\n",
            "  _warn_prf(average, modifier, msg_start, len(result))\n"
          ]
        },
        {
          "output_type": "stream",
          "name": "stdout",
          "text": [
            "Accuracy: 0.9983\n",
            "Precision: 0.9983\n",
            "Recall: 0.9983\n",
            "F1 Score: 0.9983\n",
            "Confusion Matrix:\n",
            "[[172876      3      0      0      0     96      0      3      0     31\n",
            "       1]\n",
            " [     0    276      0      0      0      0      0      0      0      0\n",
            "       0]\n",
            " [     9      0      3      0      0      0      0      0      0      0\n",
            "       0]\n",
            " [     2      0      0      0      0      0      0      0      0      0\n",
            "       0]\n",
            " [     0      0      0      0     14      0      0      0      0      0\n",
            "       0]\n",
            " [   130      0      0      0      0    332      0      0      0      0\n",
            "       0]\n",
            " [     0      0      0      0      0      0  68166      0      0      1\n",
            "       0]\n",
            " [     5      0      0      0      0      0     42    814      0     12\n",
            "       0]\n",
            " [     2      0      0      0      0      0      0      0      0      1\n",
            "       0]\n",
            " [    50      0      0      0      0      0      3      4      0   1496\n",
            "       0]\n",
            " [    14      0      0      0      0      0      0      0      0      3\n",
            "     876]]\n",
            "Classification Report:\n",
            "              precision    recall  f1-score   support\n",
            "\n",
            "           0       1.00      1.00      1.00    173010\n",
            "           1       0.99      1.00      0.99       276\n",
            "           2       1.00      0.25      0.40        12\n",
            "           3       0.00      0.00      0.00         2\n",
            "           4       1.00      1.00      1.00        14\n",
            "           5       0.78      0.72      0.75       462\n",
            "           6       1.00      1.00      1.00     68167\n",
            "           7       0.99      0.93      0.96       873\n",
            "           8       0.00      0.00      0.00         3\n",
            "           9       0.97      0.96      0.97      1553\n",
            "          10       1.00      0.98      0.99       893\n",
            "\n",
            "    accuracy                           1.00    245265\n",
            "   macro avg       0.79      0.71      0.73    245265\n",
            "weighted avg       1.00      1.00      1.00    245265\n",
            "\n"
          ]
        },
        {
          "output_type": "stream",
          "name": "stderr",
          "text": [
            "/usr/local/lib/python3.10/dist-packages/sklearn/metrics/_classification.py:1344: UndefinedMetricWarning: Precision and F-score are ill-defined and being set to 0.0 in labels with no predicted samples. Use `zero_division` parameter to control this behavior.\n",
            "  _warn_prf(average, modifier, msg_start, len(result))\n"
          ]
        }
      ],
      "source": [
        "# Whatanak\n",
        "\n",
        "## Importing libraries - accuracy_score, precision_score, recall_score, f1_score, confusion_matrix, classification_report\n",
        "from sklearn.metrics import accuracy_score, precision_score, recall_score, f1_score, confusion_matrix, classification_report\n",
        "\n",
        "# Make predictions on the test set\n",
        "y_pred_probs = model.predict(dtest, output_margin=True)  # Predicted probabilities for each class\n",
        "\n",
        "# Convert probabilities to class labels\n",
        "y_pred_labels = np.argmax(y_pred_probs, axis=1)\n",
        "\n",
        "# Calculate evaluation metrics\n",
        "accuracy = accuracy_score(y_test, y_pred_labels)\n",
        "precision = precision_score(y_test, y_pred_labels, average='weighted')  # Use 'weighted' for multiclass\n",
        "recall = recall_score(y_test, y_pred_labels, average='weighted')  # Use 'weighted' for multiclass\n",
        "f1 = f1_score(y_test, y_pred_labels, average='weighted')  # Use 'weighted' for multiclass\n",
        "confusion = confusion_matrix(y_test, y_pred_labels)\n",
        "classification_rep = classification_report(y_test, y_pred_labels)\n",
        "\n",
        "# Print the evaluation results\n",
        "print(f\"Accuracy: {accuracy:.4f}\")\n",
        "print(f\"Precision: {precision:.4f}\")\n",
        "print(f\"Recall: {recall:.4f}\")\n",
        "print(f\"F1 Score: {f1:.4f}\")\n",
        "print(\"Confusion Matrix:\")\n",
        "print(confusion)\n",
        "print(\"Classification Report:\")\n",
        "print(classification_rep)\n"
      ]
    },
    {
      "cell_type": "code",
      "execution_count": null,
      "metadata": {
        "id": "s7O1AV365cv7"
      },
      "outputs": [],
      "source": [
        "# YOUR NAME\n",
        "\n",
        "## Step 3.a - Select Evaluation Metrics\n",
        "\n"
      ]
    }
  ],
  "metadata": {
    "colab": {
      "provenance": []
    },
    "kernelspec": {
      "display_name": "Python 3",
      "name": "python3"
    },
    "language_info": {
      "name": "python"
    },
    "orig_nbformat": 4
  },
  "nbformat": 4,
  "nbformat_minor": 0
}