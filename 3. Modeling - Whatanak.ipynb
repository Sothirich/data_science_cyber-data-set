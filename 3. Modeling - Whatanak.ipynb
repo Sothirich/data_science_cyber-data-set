{
  "cells": [
    {
      "cell_type": "code",
      "execution_count": 23,
      "metadata": {
        "colab": {
          "base_uri": "https://localhost:8080/"
        },
        "id": "M_zXcr0G5cv0",
        "outputId": "628cd2be-3527-4d78-9ebf-25afe95d69da"
      },
      "outputs": [
        {
          "name": "stdout",
          "output_type": "stream",
          "text": [
            "Drive already mounted at /content/drive; to attempt to forcibly remount, call drive.mount(\"/content/drive\", force_remount=True).\n",
            "/content/drive/MyDrive/Colab/Project\n"
          ]
        }
      ],
      "source": [
        "# Pitou\n",
        "\n",
        "### If you are running this on google colab, mount your google drive first\n",
        "## If not, comment out the following lines\n",
        "from google.colab import drive\n",
        "drive.mount('/content/drive')\n",
        "%cd /content/drive/MyDrive/Colab/Project/"
      ]
    },
    {
      "cell_type": "code",
      "execution_count": null,
      "metadata": {
        "id": "kFsvnTI15cv3"
      },
      "outputs": [],
      "source": [
        "# Pitou\n",
        "\n",
        "## Importing the necessary module\n",
        "from transformed import *"
      ]
    },
    {
      "cell_type": "code",
      "execution_count": null,
      "metadata": {},
      "outputs": [],
      "source": [
        "# Pitou\n",
        "\n",
        "## Importing necessary libraries\n",
        "from sklearn.svm import SVC"
      ]
    },
    {
      "cell_type": "markdown",
      "metadata": {
        "id": "ZfNSA4435cv3"
      },
      "source": [
        "# Step 1 - Model Selection"
      ]
    },
    {
      "cell_type": "code",
      "execution_count": 42,
      "metadata": {
        "colab": {
          "base_uri": "https://localhost:8080/"
        },
        "id": "MFriOyJf5cv4",
        "outputId": "42426967-7d6b-4a27-d04c-3bcaf46b8e5c"
      },
      "outputs": [
        {
          "name": "stdout",
          "output_type": "stream",
          "text": [
            "Accuracy: 0.9998899149899089\n",
            "Classification Report:\n",
            "              precision    recall  f1-score   support\n",
            "\n",
            "           0       1.00      1.00      1.00    115151\n",
            "           1       1.00      1.00      1.00       192\n",
            "           2       1.00      0.62      0.77         8\n",
            "           3       0.00      0.00      0.00         1\n",
            "           4       1.00      1.00      1.00         9\n",
            "           5       1.00      1.00      1.00       316\n",
            "           6       1.00      1.00      1.00     45558\n",
            "           7       1.00      1.00      1.00       586\n",
            "           8       0.00      0.00      0.00         3\n",
            "           9       1.00      0.99      1.00      1090\n",
            "          10       1.00      1.00      1.00       596\n",
            "\n",
            "    accuracy                           1.00    163510\n",
            "   macro avg       0.82      0.78      0.80    163510\n",
            "weighted avg       1.00      1.00      1.00    163510\n",
            "\n",
            "Confusion Matrix:\n",
            "[[115151      0      0      0      0      0      0      0      0      0\n",
            "       0]\n",
            " [     0    192      0      0      0      0      0      0      0      0\n",
            "       0]\n",
            " [     3      0      5      0      0      0      0      0      0      0\n",
            "       0]\n",
            " [     1      0      0      0      0      0      0      0      0      0\n",
            "       0]\n",
            " [     0      0      0      0      9      0      0      0      0      0\n",
            "       0]\n",
            " [     1      0      0      0      0    315      0      0      0      0\n",
            "       0]\n",
            " [     0      0      0      0      0      0  45558      0      0      0\n",
            "       0]\n",
            " [     2      0      0      0      0      0      0    584      0      0\n",
            "       0]\n",
            " [     3      0      0      0      0      0      0      0      0      0\n",
            "       0]\n",
            " [     7      0      0      0      0      0      0      1      0   1082\n",
            "       0]\n",
            " [     0      0      0      0      0      0      0      0      0      0\n",
            "     596]]\n"
          ]
        },
        {
          "name": "stderr",
          "output_type": "stream",
          "text": [
            "/usr/local/lib/python3.10/dist-packages/sklearn/metrics/_classification.py:1344: UndefinedMetricWarning: Precision and F-score are ill-defined and being set to 0.0 in labels with no predicted samples. Use `zero_division` parameter to control this behavior.\n",
            "  _warn_prf(average, modifier, msg_start, len(result))\n",
            "/usr/local/lib/python3.10/dist-packages/sklearn/metrics/_classification.py:1344: UndefinedMetricWarning: Precision and F-score are ill-defined and being set to 0.0 in labels with no predicted samples. Use `zero_division` parameter to control this behavior.\n",
            "  _warn_prf(average, modifier, msg_start, len(result))\n",
            "/usr/local/lib/python3.10/dist-packages/sklearn/metrics/_classification.py:1344: UndefinedMetricWarning: Precision and F-score are ill-defined and being set to 0.0 in labels with no predicted samples. Use `zero_division` parameter to control this behavior.\n",
            "  _warn_prf(average, modifier, msg_start, len(result))\n"
          ]
        }
      ],
      "source": [
        "# Whatanak\n",
        "\n",
        "import numpy as np\n",
        "import pandas as pd\n",
        "\n",
        "import xgboost as xgb"
      ]
    },
    {
      "cell_type": "markdown",
      "metadata": {
        "id": "WdBCZl6m5cv4"
      },
      "source": [
        "# Step 2 - Data Training"
      ]
    },
    {
      "cell_type": "code",
      "execution_count": null,
      "metadata": {},
      "outputs": [],
      "source": [
        "# Create the XGBoost DMatrix for efficient data handling\n",
        "dtrain = xgb.DMatrix(X_train, label=y_train)\n",
        "dtest = xgb.DMatrix(X_test, label=y_test)\n",
        "\n",
        "# Define hyperparameters for the XGBoost model\n",
        "params = {\n",
        "    'objective': 'binary:logistic',\n",
        "    'eval_metric': 'logloss',  # You can use other metrics like 'error' or 'auc' as well\n",
        "    'eta': 0.1,\n",
        "    'max_depth': 6,\n",
        "    'min_child_weight': 1,\n",
        "    'gamma': 0,\n",
        "    'subsample': 0.8,\n",
        "    'colsample_bytree': 0.8,\n",
        "    'scale_pos_weight': 1,\n",
        "    'seed': 42\n",
        "}"
      ]
    },
    {
      "cell_type": "code",
      "execution_count": null,
      "metadata": {},
      "outputs": [],
      "source": [
        "# Train the XGBoost model\n",
        "num_rounds = 100  # Number of boosting rounds (trees)\n",
        "model = xgb.train(params, dtrain, num_rounds)"
      ]
    },
    {
      "cell_type": "code",
      "execution_count": null,
      "metadata": {
        "id": "EgQ7-mNB5cv5"
      },
      "outputs": [],
      "source": [
        "# YOUR NAME\n",
        "\n",
        "## Step 2.a - Selecting a Loss Function\n"
      ]
    },
    {
      "cell_type": "code",
      "execution_count": null,
      "metadata": {
        "id": "T8eabO8M5cv5"
      },
      "outputs": [],
      "source": [
        "# YOUR NAME\n",
        "\n",
        "## Step 2.b - Selecting an Optimization Algorithm"
      ]
    },
    {
      "cell_type": "code",
      "execution_count": null,
      "metadata": {
        "id": "qJJll_oD5cv5"
      },
      "outputs": [],
      "source": [
        "# YOUR NAME\n",
        "\n",
        "### Plot the losses over iterations"
      ]
    },
    {
      "cell_type": "code",
      "execution_count": null,
      "metadata": {
        "id": "oowRQOKT5cv6"
      },
      "outputs": [],
      "source": [
        "# YOUR NAME\n",
        "\n",
        "## Step 2.c - Selecting a Learning Rate\n"
      ]
    },
    {
      "cell_type": "code",
      "execution_count": null,
      "metadata": {
        "id": "91k3owO65cv6"
      },
      "outputs": [],
      "source": [
        "# YOUR NAME\n",
        "\n",
        "## Step 2.d - Selecting a Regulization Technique\n"
      ]
    },
    {
      "cell_type": "code",
      "execution_count": null,
      "metadata": {
        "id": "mfErYXNb5cv6"
      },
      "outputs": [],
      "source": [
        "# YOUR NAME\n",
        "\n",
        "## Step 2.e - Selecting a Validation Strategy\n"
      ]
    },
    {
      "cell_type": "markdown",
      "metadata": {
        "id": "DwivGNHs5cv6"
      },
      "source": [
        "# Step 3 - Model Evaluation"
      ]
    },
    {
      "cell_type": "code",
      "execution_count": null,
      "metadata": {
        "id": "gURV2wFH5cv6"
      },
      "outputs": [],
      "source": [
        "# YOUR NAME\n",
        "\n",
        "## Importing libraries - accuracy_score, precision_score, recall_score, f1_score, confusion_matrix, classification_report\n",
        "from sklearn.metrics import accuracy_score, precision_score, recall_score, f1_score, confusion_matrix, classification_report\n",
        "import numpy as np\n",
        "\n",
        "# Make predictions on the test set\n",
        "y_pred = model.predict(dtest)\n",
        "y_pred_binary = (y_pred > 0.5).astype(int)  # Convert probabilities to binary predictions\n",
        "\n",
        "# Calculate evaluation metrics\n",
        "accuracy = accuracy_score(y_test, y_pred_binary)\n",
        "precision = precision_score(y_test, y_pred_binary)\n",
        "recall = recall_score(y_test, y_pred_binary)\n",
        "f1 = f1_score(y_test, y_pred_binary)\n",
        "confusion = confusion_matrix(y_test, y_pred_binary)\n",
        "classification_rep = classification_report(y_test, y_pred_binary)\n",
        "\n",
        "# Print the evaluation results\n",
        "print(f\"Accuracy: {accuracy:.4f}\")\n",
        "print(f\"Precision: {precision:.4f}\")\n",
        "print(f\"Recall: {recall:.4f}\")\n",
        "print(f\"F1 Score: {f1:.4f}\")\n",
        "print(\"Confusion Matrix:\")\n",
        "print(confusion)\n",
        "print(\"Classification Report:\")\n",
        "print(classification_rep)\n"
      ]
    },
    {
      "cell_type": "code",
      "execution_count": null,
      "metadata": {
        "id": "s7O1AV365cv7"
      },
      "outputs": [],
      "source": [
        "# YOUR NAME\n",
        "\n",
        "## Step 3.a - Select Evaluation Metrics\n",
        "\n"
      ]
    }
  ],
  "metadata": {
    "colab": {
      "provenance": []
    },
    "kernelspec": {
      "display_name": "Python 3",
      "name": "python3"
    },
    "language_info": {
      "name": "python"
    },
    "orig_nbformat": 4
  },
  "nbformat": 4,
  "nbformat_minor": 0
}
