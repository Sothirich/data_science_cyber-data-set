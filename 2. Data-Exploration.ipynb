{
 "cells": [
  {
   "cell_type": "code",
   "execution_count": null,
   "metadata": {},
   "outputs": [],
   "source": [
    "# Load the transformed data\n",
    "from transformed import *"
   ]
  },
  {
   "cell_type": "markdown",
   "metadata": {},
   "source": [
    "# Step 1 - Data Summary"
   ]
  },
  {
   "cell_type": "code",
   "execution_count": null,
   "metadata": {},
   "outputs": [],
   "source": [
    "# Pitou\n",
    "\n",
    "### Generate summary statistics for the training set\n",
    "X_train.describe()"
   ]
  },
  {
   "cell_type": "code",
   "execution_count": null,
   "metadata": {},
   "outputs": [],
   "source": [
    "# Pitou\n",
    "\n",
    "# Generate summary statistics for the testing set\n",
    "X_test.describe()"
   ]
  },
  {
   "cell_type": "markdown",
   "metadata": {},
   "source": [
    "# Step 2 - Missing or Incomplete Data Check"
   ]
  },
  {
   "cell_type": "code",
   "execution_count": null,
   "metadata": {},
   "outputs": [],
   "source": [
    "# Pitou\n",
    "\n",
    "### Identify any missing or incomplete data\n",
    "print('Number of missing values in the training set:')\n",
    "print(X_train.isnull().sum())\n",
    "print('Number of missing values in the testing set:')\n",
    "print(X_test.isnull().sum())"
   ]
  },
  {
   "cell_type": "markdown",
   "metadata": {},
   "source": [
    "# Step 3 - Outlier Check"
   ]
  },
  {
   "cell_type": "code",
   "execution_count": null,
   "metadata": {},
   "outputs": [],
   "source": [
    "# Pitou\n",
    "\n",
    "## Import libraries\n",
    "import numpy as np\n",
    "import matplotlib.pyplot as plt\n",
    "import seaborn as sns"
   ]
  },
  {
   "cell_type": "code",
   "execution_count": null,
   "metadata": {},
   "outputs": [],
   "source": [
    "# Pitou\n",
    "\n",
    "### Create a list of selected features\n",
    "features = selected_cols\n",
    "\n",
    "### Loop through the features and create a box plot for each one\n",
    "for feature in features:\n",
    "    # Create a figure and an axis\n",
    "    fig, ax = plt.subplots(figsize=(10,6))\n",
    "    # Plot the box plot\n",
    "    sns.boxplot(x='attack', y=feature, data=df, ax=ax)\n",
    "    # Set the title and labels\n",
    "    ax.set_title(f'Box plot of {feature} by attack type')\n",
    "    ax.set_xlabel('Attack type')\n",
    "    ax.set_ylabel(feature)\n",
    "    # Show the plot\n",
    "    plt.show()"
   ]
  },
  {
   "cell_type": "code",
   "execution_count": null,
   "metadata": {},
   "outputs": [],
   "source": [
    "# Pitou\n",
    "\n",
    "### OPTIONAL\n",
    "#### # Loop through the features and remove outliers based on IQR\n",
    "# for feature in features:\n",
    "#   # Calculate the IQR\n",
    "#   Q1 = df[feature].quantile(0.25)\n",
    "#   Q3 = df[feature].quantile(0.75)\n",
    "#   IQR = Q3 - Q1\n",
    "#   # Define the lower and upper bounds for outliers\n",
    "#   lower_bound = Q1 - 1.5 * IQR\n",
    "#   upper_bound = Q3 + 1.5 * IQR\n",
    "#   # Filter out the outliers from the data frame\n",
    "#   df = df[(df[feature] >= lower_bound) & (df[feature] <= upper_bound)]\n",
    "\n",
    "# # Transform outliers: This is a way to reduce the impact of outliers on the analysis, without removing them from the data. A common transformation technique is to apply a logarithmic function to the data, which can help to reduce the skewness and make the distribution more symmetric. However, this may also change the interpretation of the data and affect some statistical tests. Here is a possible code snippet to implement this method:\n",
    "\n",
    "#### Loop through the features and apply log transformation\n",
    "# for feature in features:\n",
    "#   # Add a small constant to avoid taking log of zero\n",
    "#   df[feature] = np.log(df[feature] + 0.001)"
   ]
  },
  {
   "cell_type": "markdown",
   "metadata": {},
   "source": [
    "# Step 4 - Data Visualizations"
   ]
  },
  {
   "cell_type": "code",
   "execution_count": null,
   "metadata": {},
   "outputs": [],
   "source": [
    "# Pitou\n",
    "\n",
    "## Import libraries\n",
    "import matplotlib.pyplot as plt\n",
    "import seaborn as sns"
   ]
  },
  {
   "cell_type": "code",
   "execution_count": null,
   "metadata": {},
   "outputs": [],
   "source": [
    "# Pitou \n",
    "\n",
    "### Plotting the count of feature all 'protocol_type' in different canvas as bar chart for each attack type\n",
    "for attack in df['attack'].unique():\n",
    "    fig, ax = plt.subplots(figsize=(10,6))\n",
    "    sns.countplot(x='protocol_type', data=df[df['attack']==attack], ax=ax)\n",
    "    ax.set_title(f'Count of protocol_type for {attack}')\n",
    "    ax.set_xlabel('protocol_type')\n",
    "    ax.set_ylabel('Count')\n",
    "    plt.show()\n"
   ]
  },
  {
   "cell_type": "markdown",
   "metadata": {},
   "source": [
    "# Step 5 - Hypothesis Generation"
   ]
  }
 ],
 "metadata": {
  "language_info": {
   "name": "python"
  },
  "orig_nbformat": 4
 },
 "nbformat": 4,
 "nbformat_minor": 2
}
